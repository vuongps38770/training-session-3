{
 "cells": [
  {
   "cell_type": "code",
   "execution_count": null,
   "id": "c0197b61",
   "metadata": {},
   "outputs": [],
   "source": [
    "from PIL import Image, ImageDraw, ImageFont\n",
    "import os\n",
    "import random\n",
    "\n",
    "\n",
    "char = \"X\"                 \n",
    "class_id = 0               \n",
    "text_color = \"white\"       \n",
    "bg_color = \"green\"         \n",
    "num_images = 100           \n",
    "img_size = 512            \n",
    "text_size = 100           \n",
    "\n",
    "\n",
    "os.makedirs(\"images\", exist_ok=True)\n",
    "os.makedirs(\"labels\", exist_ok=True)\n",
    "\n",
    "try:\n",
    "    font = ImageFont.truetype(\"arial.ttf\", size=text_size)\n",
    "except:\n",
    "    font = ImageFont.load_default()\n",
    "\n",
    "for i in range(num_images):\n",
    "    img = Image.new('RGB', (img_size, img_size), color=bg_color)\n",
    "    draw = ImageDraw.Draw(img)\n",
    "\n",
    "    bbox = font.getbbox(char)\n",
    "    text_w = bbox[2] - bbox[0]\n",
    "    text_h = bbox[3] - bbox[1]\n",
    "    x = random.randint(0, img_size - text_w)\n",
    "    y = random.randint(0, img_size - text_h)\n",
    "\n",
    "    draw.text((x, y), char, fill=text_color, font=font)\n",
    "\n",
    "    x_center = (x + text_w / 2) / img_size\n",
    "    y_center = (y + text_h / 2) / img_size\n",
    "    width = text_w / img_size\n",
    "    height = text_h / img_size\n",
    "\n",
    "    img_path = f\"images/{char.lower()}_{i:03}.png\"\n",
    "    label_path = f\"labels/{char.lower()}_{i:03}.txt\"\n",
    "\n",
    "    img.save(img_path)\n",
    "\n",
    "    \n",
    "    with open(label_path, \"w\") as f:\n",
    "        f.write(f\"{class_id} {x_center:.6f} {y_center:.6f} {width:.6f} {height:.6f}\")\n"
   ]
  }
 ],
 "metadata": {
  "kernelspec": {
   "display_name": ".venv",
   "language": "python",
   "name": "python3"
  },
  "language_info": {
   "codemirror_mode": {
    "name": "ipython",
    "version": 3
   },
   "file_extension": ".py",
   "mimetype": "text/x-python",
   "name": "python",
   "nbconvert_exporter": "python",
   "pygments_lexer": "ipython3",
   "version": "3.10.9"
  }
 },
 "nbformat": 4,
 "nbformat_minor": 5
}
