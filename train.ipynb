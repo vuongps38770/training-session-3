{
 "cells": [
  {
   "cell_type": "code",
   "execution_count": null,
   "id": "efa4416b",
   "metadata": {},
   "outputs": [],
   "source": [
    "from ultralytics import YOLO\n",
    "\n",
    "model = YOLO('yolov8n.pt')  \n",
    "model.train(\n",
    "    data='datasets/data.yaml', \n",
    "    epochs=100, \n",
    "    imgsz=640,\n",
    "    degrees=10,       \n",
    "    translate=0.1,   \n",
    "    scale=0.5,        \n",
    "    shear=2.0,     \n",
    "    flipud=0.5,    \n",
    "    fliplr=0.5 )\n",
    "# gpu mạnh thì hẵng để như này ko nổ máy ráng chịu\n",
    "# máy bthg thì model.train(data='datasets/data.yaml')\n",
    "# các model tự xem ở đây https://docs.ultralytics.com/models/"
   ]
  }
 ],
 "metadata": {
  "language_info": {
   "name": "python"
  }
 },
 "nbformat": 4,
 "nbformat_minor": 5
}
